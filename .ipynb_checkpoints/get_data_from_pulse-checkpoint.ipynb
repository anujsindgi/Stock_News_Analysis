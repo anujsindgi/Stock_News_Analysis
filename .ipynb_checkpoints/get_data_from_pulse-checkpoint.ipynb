{
 "cells": [
  {
   "cell_type": "code",
   "execution_count": 2,
   "id": "90757996-4323-4d7f-a63b-829c4acf75c6",
   "metadata": {},
   "outputs": [],
   "source": [
    "import numpy as np\n",
    "import pandas as pd\n",
    "from bs4 import BeautifulSoup\n",
    "from urllib.request import Request, urlopen\n",
    "from nltk.sentiment import SentimentIntensityAnalyzer\n",
    "import requests\n",
    "import random"
   ]
  },
  {
   "cell_type": "markdown",
   "id": "2f94b238-ca7b-495c-8026-0c32fc4819ea",
   "metadata": {},
   "source": [
    "# List of FNO Stocks"
   ]
  },
  {
   "cell_type": "code",
   "execution_count": 7,
   "id": "5368cf93-6e74-4b64-b3dd-9fe2c20cd8d8",
   "metadata": {},
   "outputs": [],
   "source": [
    "fno_list = pd.read_csv('fno_stocks_list.csv')\n",
    "\n",
    "drop_words = ['Limited', 'Ltd', 'Industries', 'The', 'India', '()', 'Enterprises','Enterprise' ]\n",
    "fno_list['Stock'] = fno_list['Stock Name']\n",
    "\n",
    "for word in drop_words:\n",
    "    fno_list['Stock'] = fno_list['Stock'].map(lambda x: x.replace(word, ''))\n",
    "    \n",
    "fno_list['Stock'] = fno_list['Stock'].map(lambda x: x.lower())\n",
    "fno_list['Symbol'] = fno_list['Symbol'].map(lambda x: x.lower())\n",
    "\n",
    "symbols = fno_list['Symbol'].values\n",
    "stocks = fno_list['Stock'].values"
   ]
  },
  {
   "cell_type": "markdown",
   "id": "3350b880-2d55-434d-90d4-4e9306282393",
   "metadata": {},
   "source": [
    "# Request Data from Pulse"
   ]
  },
  {
   "cell_type": "code",
   "execution_count": null,
   "id": "58f6d8fa-f7a6-4b2f-9f0c-220eb95a9ca7",
   "metadata": {},
   "outputs": [],
   "source": [
    "link = 'https://pulse.zerodha.com'\n",
    "\n",
    "request_headers = {\n",
    "    'user-agent': 'Mozilla/5.0 (Macintosh; Intel Mac OS X 10_15_7) AppleWebKit/605.1.15 (KHTML, like Gecko) Version/17.2.1 Safari/605.1.15'\n",
    "}\n",
    "\n",
    "response = requests.get(link, headers=request_headers)\n",
    "html = BeautifulSoup(response.text, 'html')\n",
    "headlines = html.select('h2.title')\n",
    "descriptions = html.select('div.desc')"
   ]
  },
  {
   "cell_type": "markdown",
   "id": "3bc32c32-4096-430d-96a2-1cece9e8ef1a",
   "metadata": {},
   "source": [
    "# Filter Articles for FNO Stocks"
   ]
  },
  {
   "cell_type": "code",
   "execution_count": null,
   "id": "90968bb8-58b7-4a9f-a4d1-2f6ccc3ef710",
   "metadata": {},
   "outputs": [],
   "source": [
    "#Convert description text to lower case\n"
   ]
  }
 ],
 "metadata": {
  "kernelspec": {
   "display_name": "Python 3 (ipykernel)",
   "language": "python",
   "name": "python3"
  },
  "language_info": {
   "codemirror_mode": {
    "name": "ipython",
    "version": 3
   },
   "file_extension": ".py",
   "mimetype": "text/x-python",
   "name": "python",
   "nbconvert_exporter": "python",
   "pygments_lexer": "ipython3",
   "version": "3.12.0"
  }
 },
 "nbformat": 4,
 "nbformat_minor": 5
}
